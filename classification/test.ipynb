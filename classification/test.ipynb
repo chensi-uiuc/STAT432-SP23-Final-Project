{
 "cells": [
  {
   "cell_type": "code",
   "execution_count": 10,
   "metadata": {},
   "outputs": [
    {
     "name": "stdout",
     "output_type": "stream",
     "text": [
      "Accuracy: 0.9603\n",
      "Sensitivity: 0.9701\n",
      "Specificity: 0.9248\n",
      "Precision: 0.9790\n",
      "F1 Score: 0.9745\n"
     ]
    }
   ],
   "source": [
    "import numpy as np\n",
    "\n",
    "M = np.array([[2467,76],\n",
    "              [53,652]])\n",
    "\n",
    "accuracy = (M[0,0]+M[1,1])/np.sum(M)\n",
    "print(f\"Accuracy: {accuracy:.4f}\")\n",
    "\n",
    "sensitivity = M[0,0]/(M[0,0]+M[0,1])\n",
    "print(f\"Sensitivity: {sensitivity:.4f}\")\n",
    "\n",
    "specificity = M[1,1]/(M[1,1]+M[1,0])\n",
    "print(f\"Specificity: {specificity:.4f}\")\n",
    "\n",
    "precision = M[0,0]/(M[0,0] + M[1,0])\n",
    "print(f\"Precision: {precision:.4f}\")\n",
    "\n",
    "recall = sensitivity\n",
    "F1 = 2*precision*recall/(precision+recall)\n",
    "print(f\"F1 Score: {F1:.4f}\")"
   ]
  },
  {
   "cell_type": "code",
   "execution_count": 2,
   "metadata": {},
   "outputs": [
    {
     "name": "stdout",
     "output_type": "stream",
     "text": [
      "Accuracy: 1.0000\n",
      "Sensitivity: 1.0000\n",
      "Specificity: 1.0000\n",
      "Precision: 1.0000\n",
      "F1 Score: 1.0000\n"
     ]
    }
   ],
   "source": [
    "M = np.array([[10,0],\n",
    "              [0,8]])\n",
    "accuracy = (M[0,0]+M[1,1])/np.sum(M)\n",
    "print(f\"Accuracy: {accuracy:.4f}\")\n",
    "\n",
    "sensitivity = M[0,0]/(M[0,0]+M[0,1])\n",
    "print(f\"Sensitivity: {sensitivity:.4f}\")\n",
    "\n",
    "specificity = M[1,1]/(M[1,1]+M[1,0])\n",
    "print(f\"Specificity: {specificity:.4f}\")\n",
    "\n",
    "precision = M[0,0]/(M[0,0] + M[1,0])\n",
    "print(f\"Precision: {precision:.4f}\")\n",
    "\n",
    "recall = sensitivity\n",
    "F1 = 2*precision*recall/(precision+recall)\n",
    "print(f\"F1 Score: {F1:.4f}\")"
   ]
  }
 ],
 "metadata": {
  "kernelspec": {
   "display_name": "Python 3",
   "language": "python",
   "name": "python3"
  },
  "language_info": {
   "codemirror_mode": {
    "name": "ipython",
    "version": 3
   },
   "file_extension": ".py",
   "mimetype": "text/x-python",
   "name": "python",
   "nbconvert_exporter": "python",
   "pygments_lexer": "ipython3",
   "version": "3.8.5"
  },
  "orig_nbformat": 4
 },
 "nbformat": 4,
 "nbformat_minor": 2
}
